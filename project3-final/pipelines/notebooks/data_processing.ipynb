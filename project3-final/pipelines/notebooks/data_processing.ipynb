{
 "cells": [
  {
   "cell_type": "code",
   "execution_count": 1,
   "metadata": {},
   "outputs": [],
   "source": [
    "import numpy as np\n",
    "import pandas as pd\n",
    "from pathlib import Path"
   ]
  },
  {
   "cell_type": "code",
   "execution_count": 2,
   "metadata": {},
   "outputs": [],
   "source": [
    "RAW_DATA = Path('../../data/raw/dados_proteomicas_com_foldchange.xslx')\n",
    "if not RAW_DATA.exists():\n",
    "    print('Raw data path not found - ' + RAW_DATA)\n",
    "else:\n",
    "    data_cols = ['Protein (UNIPROT)', 'Gene name', 'Regulated', 'Fold change']\n",
    "    cancer_data = pd.read_excel(RAW_DATA, sheet_name='Cancer', usecols=data_cols)"
   ]
  },
  {
   "cell_type": "code",
   "execution_count": 20,
   "metadata": {},
   "outputs": [],
   "source": [
    "RAW_DATA = Path('../../data/raw/dados_proteomicas_com_foldchange.xslx')\n",
    "if not RAW_DATA.exists():\n",
    "    print('Raw data path not found - ' + RAW_DATA)\n",
    "else:\n",
    "    preeclm_data = pd.read_excel(RAW_DATA, sheet_name='Preeclampsia')"
   ]
  },
  {
   "cell_type": "code",
   "execution_count": 27,
   "metadata": {},
   "outputs": [],
   "source": [
    "# preeclm_data['Protein (UNIPROT)'].str.split(';')\n",
    "preeclm_data['protein_firstname'] = preeclm_data['Protein (UNIPROT)'].apply(lambda x: x.split(';')[0])\n"
   ]
  },
  {
   "cell_type": "code",
   "execution_count": 33,
   "metadata": {},
   "outputs": [],
   "source": [
    "preeclm_data.drop('protein', axis=1)[['Protein (UNIPROT)', 'protein_firstname']].to_csv('./preeclampsia.csv', index=False)"
   ]
  },
  {
   "cell_type": "code",
   "execution_count": null,
   "metadata": {},
   "outputs": [],
   "source": []
  }
 ],
 "metadata": {
  "kernelspec": {
   "display_name": "Python 3",
   "language": "python",
   "name": "python3"
  },
  "language_info": {
   "codemirror_mode": {
    "name": "ipython",
    "version": 3
   },
   "file_extension": ".py",
   "mimetype": "text/x-python",
   "name": "python",
   "nbconvert_exporter": "python",
   "pygments_lexer": "ipython3",
   "version": "3.9.13"
  }
 },
 "nbformat": 4,
 "nbformat_minor": 2
}
