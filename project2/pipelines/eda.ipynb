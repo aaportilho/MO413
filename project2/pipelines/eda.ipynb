{
 "cells": [
  {
   "cell_type": "code",
   "execution_count": 1,
   "metadata": {},
   "outputs": [],
   "source": [
    "import pandas as pd\n",
    "import numpy as np"
   ]
  },
  {
   "cell_type": "code",
   "execution_count": 2,
   "metadata": {},
   "outputs": [],
   "source": [
    "cancer = pd.read_csv('../data/raw/string_cancer.csv', sep=';')\n",
    "pre = pd.read_csv('../data/raw/string_preeclampsia.csv', sep=';')\n",
    "\n",
    "rename_dict = {'#node1': 'node1', 'node1_string_id':'node1_id', 'node2_string_id':'node2_id',}\n",
    "cancer = cancer.rename(columns=rename_dict)\n",
    "pre = pre.rename(columns=rename_dict)"
   ]
  },
  {
   "cell_type": "code",
   "execution_count": 3,
   "metadata": {},
   "outputs": [
    {
     "data": {
      "text/html": [
       "<div>\n",
       "<style scoped>\n",
       "    .dataframe tbody tr th:only-of-type {\n",
       "        vertical-align: middle;\n",
       "    }\n",
       "\n",
       "    .dataframe tbody tr th {\n",
       "        vertical-align: top;\n",
       "    }\n",
       "\n",
       "    .dataframe thead th {\n",
       "        text-align: right;\n",
       "    }\n",
       "</style>\n",
       "<table border=\"1\" class=\"dataframe\">\n",
       "  <thead>\n",
       "    <tr style=\"text-align: right;\">\n",
       "      <th></th>\n",
       "      <th>Query protein</th>\n",
       "      <th>Gene name</th>\n",
       "      <th>FC</th>\n",
       "      <th>Regulation</th>\n",
       "    </tr>\n",
       "  </thead>\n",
       "  <tbody>\n",
       "    <tr>\n",
       "      <th>0</th>\n",
       "      <td>Q6AYZ1</td>\n",
       "      <td>Tuba1c</td>\n",
       "      <td>-0.440370</td>\n",
       "      <td>Down</td>\n",
       "    </tr>\n",
       "    <tr>\n",
       "      <th>1</th>\n",
       "      <td>Q9EPH1</td>\n",
       "      <td>A1bg</td>\n",
       "      <td>-0.778146</td>\n",
       "      <td>Down</td>\n",
       "    </tr>\n",
       "    <tr>\n",
       "      <th>2</th>\n",
       "      <td>P06238</td>\n",
       "      <td>A2m</td>\n",
       "      <td>-0.711127</td>\n",
       "      <td>Down</td>\n",
       "    </tr>\n",
       "    <tr>\n",
       "      <th>3</th>\n",
       "      <td>G3V9J6</td>\n",
       "      <td>Abcb1b</td>\n",
       "      <td>-0.557322</td>\n",
       "      <td>Down</td>\n",
       "    </tr>\n",
       "    <tr>\n",
       "      <th>4</th>\n",
       "      <td>P68136</td>\n",
       "      <td>Acta1</td>\n",
       "      <td>-0.284675</td>\n",
       "      <td>Down</td>\n",
       "    </tr>\n",
       "    <tr>\n",
       "      <th>...</th>\n",
       "      <td>...</td>\n",
       "      <td>...</td>\n",
       "      <td>...</td>\n",
       "      <td>...</td>\n",
       "    </tr>\n",
       "    <tr>\n",
       "      <th>172</th>\n",
       "      <td>D4A3P1</td>\n",
       "      <td>Ubqln4</td>\n",
       "      <td>-0.528368</td>\n",
       "      <td>Down</td>\n",
       "    </tr>\n",
       "    <tr>\n",
       "      <th>173</th>\n",
       "      <td>D4ABI6</td>\n",
       "      <td>Uchl4</td>\n",
       "      <td>-0.634966</td>\n",
       "      <td>Down</td>\n",
       "    </tr>\n",
       "    <tr>\n",
       "      <th>174</th>\n",
       "      <td>Q9Z270</td>\n",
       "      <td>Vapa</td>\n",
       "      <td>-0.838787</td>\n",
       "      <td>Down</td>\n",
       "    </tr>\n",
       "    <tr>\n",
       "      <th>175</th>\n",
       "      <td>Q3MIE4</td>\n",
       "      <td>Vat1</td>\n",
       "      <td>-0.511388</td>\n",
       "      <td>Down</td>\n",
       "    </tr>\n",
       "    <tr>\n",
       "      <th>176</th>\n",
       "      <td>P85972</td>\n",
       "      <td>Vcl</td>\n",
       "      <td>-0.367791</td>\n",
       "      <td>Down</td>\n",
       "    </tr>\n",
       "  </tbody>\n",
       "</table>\n",
       "<p>177 rows × 4 columns</p>\n",
       "</div>"
      ],
      "text/plain": [
       "    Query protein Gene name        FC Regulation\n",
       "0          Q6AYZ1    Tuba1c -0.440370       Down\n",
       "1          Q9EPH1      A1bg -0.778146       Down\n",
       "2          P06238       A2m -0.711127       Down\n",
       "3          G3V9J6    Abcb1b -0.557322       Down\n",
       "4          P68136     Acta1 -0.284675       Down\n",
       "..            ...       ...       ...        ...\n",
       "172        D4A3P1    Ubqln4 -0.528368       Down\n",
       "173        D4ABI6     Uchl4 -0.634966       Down\n",
       "174        Q9Z270      Vapa -0.838787       Down\n",
       "175        Q3MIE4      Vat1 -0.511388       Down\n",
       "176        P85972       Vcl -0.367791       Down\n",
       "\n",
       "[177 rows x 4 columns]"
      ]
     },
     "execution_count": 3,
     "metadata": {},
     "output_type": "execute_result"
    }
   ],
   "source": [
    "# load a xls file as pandas and get a specific tab\n",
    "xls = pd.ExcelFile('../data/raw/proteomica.xlsx')\n",
    "xls_cancer = pd.read_excel(xls, 'Cancer-Rat').drop(['Nome da proteína (caso tenha que usar o nome do gene no string)', 'Unnamed: 5', 'Unnamed: 6'], axis=1)\n",
    "xls_pre = pd.read_excel(xls, 'Preeclampsia-Rat').drop(['Gene name', 'Unnamed: 7', 'Unnamed: 8', 'Unnamed: 9'], axis=1).rename(columns={'Gene name.1': 'Gene name'})\n",
    "xls_pre['Gene name'] = xls_pre['Gene name'].str.strip()\n",
    "xls_cancer"
   ]
  },
  {
   "cell_type": "code",
   "execution_count": 4,
   "metadata": {},
   "outputs": [
    {
     "data": {
      "text/plain": [
       "(176, 316)"
      ]
     },
     "execution_count": 4,
     "metadata": {},
     "output_type": "execute_result"
    }
   ],
   "source": [
    "xls_cancer['Gene name'].nunique(), xls_pre['Gene name'].nunique()"
   ]
  },
  {
   "cell_type": "code",
   "execution_count": 5,
   "metadata": {},
   "outputs": [
    {
     "data": {
      "text/plain": [
       "Gene name\n",
       "Gbe1      2\n",
       "Gpx3      2\n",
       "Tes       1\n",
       "Tuba4a    1\n",
       "Uso1      1\n",
       "         ..\n",
       "Casp6     1\n",
       "Gar1      1\n",
       "Pappa2    1\n",
       "Abcb4     1\n",
       "Kng1      1\n",
       "Name: count, Length: 316, dtype: int64"
      ]
     },
     "execution_count": 5,
     "metadata": {},
     "output_type": "execute_result"
    }
   ],
   "source": [
    "xls_pre['Gene name'].value_counts().sort_values(ascending=False)"
   ]
  },
  {
   "cell_type": "code",
   "execution_count": 6,
   "metadata": {},
   "outputs": [
    {
     "data": {
      "text/plain": [
       "104"
      ]
     },
     "execution_count": 6,
     "metadata": {},
     "output_type": "execute_result"
    }
   ],
   "source": [
    "len(set(cancer.node1.unique().tolist() + cancer.node2.unique().tolist()))"
   ]
  },
  {
   "cell_type": "code",
   "execution_count": 7,
   "metadata": {},
   "outputs": [
    {
     "data": {
      "text/plain": [
       "153"
      ]
     },
     "execution_count": 7,
     "metadata": {},
     "output_type": "execute_result"
    }
   ],
   "source": [
    "len(set(pre.node1.unique().tolist() + pre.node2.unique().tolist()))"
   ]
  },
  {
   "cell_type": "code",
   "execution_count": 8,
   "metadata": {},
   "outputs": [],
   "source": [
    "# set(xls_cancer['Gene name'].unique().tolist()) - set(cancer.node1.unique().tolist() + cancer.node2.unique().tolist())"
   ]
  },
  {
   "cell_type": "code",
   "execution_count": 9,
   "metadata": {},
   "outputs": [],
   "source": [
    "# set(xls_pre['Gene name'].unique().tolist()) - set(pre.node1.unique().tolist() + pre.node2.unique().tolist())"
   ]
  },
  {
   "cell_type": "code",
   "execution_count": 10,
   "metadata": {},
   "outputs": [
    {
     "data": {
      "text/plain": [
       "(Index(['Query protein', 'Gene name', 'FC', 'Regulation'], dtype='object'),\n",
       " Index(['Protein (UNIPROT)', 'protein_firstname', 'P value', 'Regulated',\n",
       "        'Fold change', 'Obs.', 'Gene name'],\n",
       "       dtype='object'))"
      ]
     },
     "execution_count": 10,
     "metadata": {},
     "output_type": "execute_result"
    }
   ],
   "source": [
    "xls_cancer.columns, xls_pre.columns"
   ]
  },
  {
   "cell_type": "code",
   "execution_count": 11,
   "metadata": {},
   "outputs": [
    {
     "data": {
      "text/plain": [
       "Index(['gene', 'fc', 'regulated', 'cancer'], dtype='object')"
      ]
     },
     "execution_count": 11,
     "metadata": {},
     "output_type": "execute_result"
    }
   ],
   "source": [
    "xls_cancer = xls_cancer.rename(columns={'Gene name': 'gene', 'FC': 'fc'})\n",
    "xls_cancer = xls_cancer.drop(['Regulation', 'Query protein'], axis=1)\n",
    "# xls_cancer['fc'] = xls_cancer['fc'].str.replace(',', '.').astype(float)\n",
    "xls_cancer['regulated'] = np.where(xls_cancer['fc'] > 0, 'up', 'down')\n",
    "xls_cancer['cancer'] = 1\n",
    "xls_cancer.columns"
   ]
  },
  {
   "cell_type": "code",
   "execution_count": 12,
   "metadata": {},
   "outputs": [
    {
     "data": {
      "text/plain": [
       "Index(['regulated', 'fc', 'gene', 'preeclampsia'], dtype='object')"
      ]
     },
     "execution_count": 12,
     "metadata": {},
     "output_type": "execute_result"
    }
   ],
   "source": [
    "xls_pre = xls_pre.drop(['Protein (UNIPROT)', 'protein_firstname','P value','Obs.'], axis=1)\n",
    "xls_pre = xls_pre.rename(columns={'Gene name': 'gene', 'Fold change': 'fc', 'Regulated': 'regulated'})\n",
    "xls_pre['preeclampsia'] = 1\n",
    "xls_pre['regulated'] = xls_pre['regulated'].str.lower()\n",
    "# xls_pre['fc'] = xls_pre['fc'].str.replace(',', '.').astype(float)\n",
    "xls_pre.columns"
   ]
  },
  {
   "cell_type": "code",
   "execution_count": 13,
   "metadata": {},
   "outputs": [
    {
     "data": {
      "text/plain": [
       "(176, 316)"
      ]
     },
     "execution_count": 13,
     "metadata": {},
     "output_type": "execute_result"
    }
   ],
   "source": [
    "xls_cancer.gene.nunique(), xls_pre.gene.nunique()"
   ]
  },
  {
   "cell_type": "markdown",
   "metadata": {},
   "source": [
    "Number of unique proteins in node1 and node2"
   ]
  },
  {
   "cell_type": "code",
   "execution_count": 14,
   "metadata": {},
   "outputs": [
    {
     "data": {
      "text/plain": [
       "(72, 70)"
      ]
     },
     "execution_count": 14,
     "metadata": {},
     "output_type": "execute_result"
    }
   ],
   "source": [
    "cancer.node1.nunique(), cancer.node2.nunique()"
   ]
  },
  {
   "cell_type": "markdown",
   "metadata": {},
   "source": [
    "Checking if there are genes in string that wasnt in the disease file"
   ]
  },
  {
   "cell_type": "code",
   "execution_count": 15,
   "metadata": {},
   "outputs": [
    {
     "data": {
      "text/plain": [
       "set()"
      ]
     },
     "execution_count": 15,
     "metadata": {},
     "output_type": "execute_result"
    }
   ],
   "source": [
    "string_genes = set(cancer.node1.unique().tolist() + cancer.node2.unique().tolist())\n",
    "xls_genes = set(xls_cancer.gene.unique().tolist())\n",
    "string_genes - xls_genes"
   ]
  },
  {
   "cell_type": "code",
   "execution_count": 16,
   "metadata": {},
   "outputs": [
    {
     "data": {
      "text/plain": [
       "set()"
      ]
     },
     "execution_count": 16,
     "metadata": {},
     "output_type": "execute_result"
    }
   ],
   "source": [
    "string_genes = set(pre.node1.unique().tolist() + pre.node2.unique().tolist())\n",
    "xls_genes = set(xls_pre.gene.unique().tolist())\n",
    "string_genes - xls_genes"
   ]
  },
  {
   "cell_type": "markdown",
   "metadata": {},
   "source": [
    "Genes that are present only in node1 or node2"
   ]
  },
  {
   "cell_type": "code",
   "execution_count": 17,
   "metadata": {},
   "outputs": [
    {
     "data": {
      "text/plain": [
       "66"
      ]
     },
     "execution_count": 17,
     "metadata": {},
     "output_type": "execute_result"
    }
   ],
   "source": [
    "diff = set(cancer.node1.unique()).symmetric_difference(set(cancer.node2.unique()))\n",
    "len(diff)"
   ]
  },
  {
   "cell_type": "markdown",
   "metadata": {},
   "source": [
    "Number of unique proteins(gene?)"
   ]
  },
  {
   "cell_type": "code",
   "execution_count": 18,
   "metadata": {},
   "outputs": [
    {
     "data": {
      "text/plain": [
       "104"
      ]
     },
     "execution_count": 18,
     "metadata": {},
     "output_type": "execute_result"
    }
   ],
   "source": [
    "len(set(cancer.node1.unique().tolist() + cancer.node2.unique().tolist()))"
   ]
  },
  {
   "cell_type": "code",
   "execution_count": 19,
   "metadata": {},
   "outputs": [
    {
     "data": {
      "text/plain": [
       "153"
      ]
     },
     "execution_count": 19,
     "metadata": {},
     "output_type": "execute_result"
    }
   ],
   "source": [
    "len(set(pre.node1.unique().tolist() + pre.node2.unique().tolist()))"
   ]
  },
  {
   "cell_type": "code",
   "execution_count": 20,
   "metadata": {},
   "outputs": [
    {
     "data": {
      "text/html": [
       "<div>\n",
       "<style scoped>\n",
       "    .dataframe tbody tr th:only-of-type {\n",
       "        vertical-align: middle;\n",
       "    }\n",
       "\n",
       "    .dataframe tbody tr th {\n",
       "        vertical-align: top;\n",
       "    }\n",
       "\n",
       "    .dataframe thead th {\n",
       "        text-align: right;\n",
       "    }\n",
       "</style>\n",
       "<table border=\"1\" class=\"dataframe\">\n",
       "  <thead>\n",
       "    <tr style=\"text-align: right;\">\n",
       "      <th></th>\n",
       "      <th>gene</th>\n",
       "      <th>fc_cancer</th>\n",
       "      <th>regulated_cancer</th>\n",
       "      <th>cancer</th>\n",
       "      <th>regulated_pre</th>\n",
       "      <th>fc_pre</th>\n",
       "      <th>preeclampsia</th>\n",
       "    </tr>\n",
       "  </thead>\n",
       "  <tbody>\n",
       "    <tr>\n",
       "      <th>0</th>\n",
       "      <td>Tuba1c</td>\n",
       "      <td>-0.440370</td>\n",
       "      <td>down</td>\n",
       "      <td>1.0</td>\n",
       "      <td>NaN</td>\n",
       "      <td>NaN</td>\n",
       "      <td>0.0</td>\n",
       "    </tr>\n",
       "    <tr>\n",
       "      <th>1</th>\n",
       "      <td>Tuba1c</td>\n",
       "      <td>-0.355256</td>\n",
       "      <td>down</td>\n",
       "      <td>1.0</td>\n",
       "      <td>NaN</td>\n",
       "      <td>NaN</td>\n",
       "      <td>0.0</td>\n",
       "    </tr>\n",
       "    <tr>\n",
       "      <th>2</th>\n",
       "      <td>A1bg</td>\n",
       "      <td>-0.778146</td>\n",
       "      <td>down</td>\n",
       "      <td>1.0</td>\n",
       "      <td>NaN</td>\n",
       "      <td>NaN</td>\n",
       "      <td>0.0</td>\n",
       "    </tr>\n",
       "    <tr>\n",
       "      <th>3</th>\n",
       "      <td>A2m</td>\n",
       "      <td>-0.711127</td>\n",
       "      <td>down</td>\n",
       "      <td>1.0</td>\n",
       "      <td>NaN</td>\n",
       "      <td>NaN</td>\n",
       "      <td>0.0</td>\n",
       "    </tr>\n",
       "    <tr>\n",
       "      <th>4</th>\n",
       "      <td>Abcb1b</td>\n",
       "      <td>-0.557322</td>\n",
       "      <td>down</td>\n",
       "      <td>1.0</td>\n",
       "      <td>NaN</td>\n",
       "      <td>NaN</td>\n",
       "      <td>0.0</td>\n",
       "    </tr>\n",
       "    <tr>\n",
       "      <th>...</th>\n",
       "      <td>...</td>\n",
       "      <td>...</td>\n",
       "      <td>...</td>\n",
       "      <td>...</td>\n",
       "      <td>...</td>\n",
       "      <td>...</td>\n",
       "      <td>...</td>\n",
       "    </tr>\n",
       "    <tr>\n",
       "      <th>476</th>\n",
       "      <td>Rpl34</td>\n",
       "      <td>NaN</td>\n",
       "      <td>NaN</td>\n",
       "      <td>0.0</td>\n",
       "      <td>up</td>\n",
       "      <td>0.400813</td>\n",
       "      <td>1.0</td>\n",
       "    </tr>\n",
       "    <tr>\n",
       "      <th>477</th>\n",
       "      <td>Casp6</td>\n",
       "      <td>NaN</td>\n",
       "      <td>NaN</td>\n",
       "      <td>0.0</td>\n",
       "      <td>up</td>\n",
       "      <td>0.559243</td>\n",
       "      <td>1.0</td>\n",
       "    </tr>\n",
       "    <tr>\n",
       "      <th>478</th>\n",
       "      <td>Gar1</td>\n",
       "      <td>NaN</td>\n",
       "      <td>NaN</td>\n",
       "      <td>0.0</td>\n",
       "      <td>up</td>\n",
       "      <td>0.580970</td>\n",
       "      <td>1.0</td>\n",
       "    </tr>\n",
       "    <tr>\n",
       "      <th>479</th>\n",
       "      <td>Pappa2</td>\n",
       "      <td>NaN</td>\n",
       "      <td>NaN</td>\n",
       "      <td>0.0</td>\n",
       "      <td>up</td>\n",
       "      <td>0.811140</td>\n",
       "      <td>1.0</td>\n",
       "    </tr>\n",
       "    <tr>\n",
       "      <th>480</th>\n",
       "      <td>Kng1</td>\n",
       "      <td>NaN</td>\n",
       "      <td>NaN</td>\n",
       "      <td>0.0</td>\n",
       "      <td>up</td>\n",
       "      <td>0.842980</td>\n",
       "      <td>1.0</td>\n",
       "    </tr>\n",
       "  </tbody>\n",
       "</table>\n",
       "<p>481 rows × 7 columns</p>\n",
       "</div>"
      ],
      "text/plain": [
       "       gene  fc_cancer regulated_cancer  cancer regulated_pre    fc_pre  \\\n",
       "0    Tuba1c  -0.440370             down     1.0           NaN       NaN   \n",
       "1    Tuba1c  -0.355256             down     1.0           NaN       NaN   \n",
       "2      A1bg  -0.778146             down     1.0           NaN       NaN   \n",
       "3       A2m  -0.711127             down     1.0           NaN       NaN   \n",
       "4    Abcb1b  -0.557322             down     1.0           NaN       NaN   \n",
       "..      ...        ...              ...     ...           ...       ...   \n",
       "476   Rpl34        NaN              NaN     0.0            up  0.400813   \n",
       "477   Casp6        NaN              NaN     0.0            up  0.559243   \n",
       "478    Gar1        NaN              NaN     0.0            up  0.580970   \n",
       "479  Pappa2        NaN              NaN     0.0            up  0.811140   \n",
       "480    Kng1        NaN              NaN     0.0            up  0.842980   \n",
       "\n",
       "     preeclampsia  \n",
       "0             0.0  \n",
       "1             0.0  \n",
       "2             0.0  \n",
       "3             0.0  \n",
       "4             0.0  \n",
       "..            ...  \n",
       "476           1.0  \n",
       "477           1.0  \n",
       "478           1.0  \n",
       "479           1.0  \n",
       "480           1.0  \n",
       "\n",
       "[481 rows x 7 columns]"
      ]
     },
     "execution_count": 20,
     "metadata": {},
     "output_type": "execute_result"
    }
   ],
   "source": [
    "f_df = xls_cancer.merge(xls_pre, on='gene', suffixes=('_cancer', '_pre'), how='outer')\n",
    "f_df.cancer = f_df.cancer.fillna(0)\n",
    "f_df.preeclampsia = f_df.preeclampsia.fillna(0)\n",
    "f_df.to_csv('../data/processed/genes.csv', index=False)\n",
    "f_df"
   ]
  },
  {
   "cell_type": "code",
   "execution_count": 21,
   "metadata": {},
   "outputs": [
    {
     "name": "stdout",
     "output_type": "stream",
     "text": [
      "22\n"
     ]
    }
   ],
   "source": [
    "df_no_nans = f_df.dropna()\n",
    "print(len(df_no_nans))\n",
    "df_no_nans.sort_values('regulated_cancer', ascending=False)\n",
    "df_no_nans.to_csv('common_genes.csv', index=False)"
   ]
  },
  {
   "cell_type": "code",
   "execution_count": 23,
   "metadata": {},
   "outputs": [],
   "source": [
    "cancer.to_csv('../data/processed/string_cancer.csv', index=False)\n",
    "pre.to_csv('../data/processed/string_pre.csv', index=False)"
   ]
  },
  {
   "cell_type": "markdown",
   "metadata": {},
   "source": [
    "### Adding a column that determines if the gene is present in both graphs\n",
    "Requires the files already processed in Neo4J"
   ]
  },
  {
   "cell_type": "code",
   "execution_count": 24,
   "metadata": {},
   "outputs": [],
   "source": [
    "graph = pd.read_csv('../data/processed/nodes.csv')\n",
    "graph['present_in'] = np.where(graph['n.cancer'] == 0, 'pre', np.where(graph['n.preeclampsia'] == 0, 'cancer', 'both'))\n",
    "graph.to_csv('../data/processed/nodes.csv', index=False)"
   ]
  },
  {
   "cell_type": "code",
   "execution_count": 25,
   "metadata": {},
   "outputs": [
    {
     "data": {
      "text/html": [
       "<div>\n",
       "<style scoped>\n",
       "    .dataframe tbody tr th:only-of-type {\n",
       "        vertical-align: middle;\n",
       "    }\n",
       "\n",
       "    .dataframe tbody tr th {\n",
       "        vertical-align: top;\n",
       "    }\n",
       "\n",
       "    .dataframe thead th {\n",
       "        text-align: right;\n",
       "    }\n",
       "</style>\n",
       "<table border=\"1\" class=\"dataframe\">\n",
       "  <thead>\n",
       "    <tr style=\"text-align: right;\">\n",
       "      <th></th>\n",
       "      <th>n.name</th>\n",
       "      <th>n.cancer</th>\n",
       "      <th>n.preeclampsia</th>\n",
       "      <th>n.foldc_cancer</th>\n",
       "      <th>n.foldc_pre</th>\n",
       "      <th>n.regulated_cancer</th>\n",
       "      <th>n.regulated_pre</th>\n",
       "      <th>present_in</th>\n",
       "    </tr>\n",
       "  </thead>\n",
       "  <tbody>\n",
       "    <tr>\n",
       "      <th>0</th>\n",
       "      <td>Tuba1c</td>\n",
       "      <td>1</td>\n",
       "      <td>0</td>\n",
       "      <td>-0.355256</td>\n",
       "      <td>NaN</td>\n",
       "      <td>down</td>\n",
       "      <td>NaN</td>\n",
       "      <td>cancer</td>\n",
       "    </tr>\n",
       "    <tr>\n",
       "      <th>1</th>\n",
       "      <td>A1bg</td>\n",
       "      <td>1</td>\n",
       "      <td>0</td>\n",
       "      <td>-0.778146</td>\n",
       "      <td>NaN</td>\n",
       "      <td>down</td>\n",
       "      <td>NaN</td>\n",
       "      <td>cancer</td>\n",
       "    </tr>\n",
       "    <tr>\n",
       "      <th>2</th>\n",
       "      <td>A2m</td>\n",
       "      <td>1</td>\n",
       "      <td>0</td>\n",
       "      <td>-0.711127</td>\n",
       "      <td>NaN</td>\n",
       "      <td>down</td>\n",
       "      <td>NaN</td>\n",
       "      <td>cancer</td>\n",
       "    </tr>\n",
       "    <tr>\n",
       "      <th>3</th>\n",
       "      <td>Abcb1b</td>\n",
       "      <td>1</td>\n",
       "      <td>0</td>\n",
       "      <td>-0.557322</td>\n",
       "      <td>NaN</td>\n",
       "      <td>down</td>\n",
       "      <td>NaN</td>\n",
       "      <td>cancer</td>\n",
       "    </tr>\n",
       "    <tr>\n",
       "      <th>4</th>\n",
       "      <td>Acta1</td>\n",
       "      <td>1</td>\n",
       "      <td>0</td>\n",
       "      <td>-0.284675</td>\n",
       "      <td>NaN</td>\n",
       "      <td>down</td>\n",
       "      <td>NaN</td>\n",
       "      <td>cancer</td>\n",
       "    </tr>\n",
       "    <tr>\n",
       "      <th>...</th>\n",
       "      <td>...</td>\n",
       "      <td>...</td>\n",
       "      <td>...</td>\n",
       "      <td>...</td>\n",
       "      <td>...</td>\n",
       "      <td>...</td>\n",
       "      <td>...</td>\n",
       "      <td>...</td>\n",
       "    </tr>\n",
       "    <tr>\n",
       "      <th>465</th>\n",
       "      <td>Rpl34</td>\n",
       "      <td>0</td>\n",
       "      <td>1</td>\n",
       "      <td>NaN</td>\n",
       "      <td>0.400813</td>\n",
       "      <td>NaN</td>\n",
       "      <td>up</td>\n",
       "      <td>pre</td>\n",
       "    </tr>\n",
       "    <tr>\n",
       "      <th>466</th>\n",
       "      <td>Casp6</td>\n",
       "      <td>0</td>\n",
       "      <td>1</td>\n",
       "      <td>NaN</td>\n",
       "      <td>0.559243</td>\n",
       "      <td>NaN</td>\n",
       "      <td>up</td>\n",
       "      <td>pre</td>\n",
       "    </tr>\n",
       "    <tr>\n",
       "      <th>467</th>\n",
       "      <td>Gar1</td>\n",
       "      <td>0</td>\n",
       "      <td>1</td>\n",
       "      <td>NaN</td>\n",
       "      <td>0.580970</td>\n",
       "      <td>NaN</td>\n",
       "      <td>up</td>\n",
       "      <td>pre</td>\n",
       "    </tr>\n",
       "    <tr>\n",
       "      <th>468</th>\n",
       "      <td>Pappa2</td>\n",
       "      <td>0</td>\n",
       "      <td>1</td>\n",
       "      <td>NaN</td>\n",
       "      <td>0.811140</td>\n",
       "      <td>NaN</td>\n",
       "      <td>up</td>\n",
       "      <td>pre</td>\n",
       "    </tr>\n",
       "    <tr>\n",
       "      <th>469</th>\n",
       "      <td>Kng1</td>\n",
       "      <td>0</td>\n",
       "      <td>1</td>\n",
       "      <td>NaN</td>\n",
       "      <td>0.842980</td>\n",
       "      <td>NaN</td>\n",
       "      <td>up</td>\n",
       "      <td>pre</td>\n",
       "    </tr>\n",
       "  </tbody>\n",
       "</table>\n",
       "<p>470 rows × 8 columns</p>\n",
       "</div>"
      ],
      "text/plain": [
       "     n.name  n.cancer  n.preeclampsia  n.foldc_cancer  n.foldc_pre  \\\n",
       "0    Tuba1c         1               0       -0.355256          NaN   \n",
       "1      A1bg         1               0       -0.778146          NaN   \n",
       "2       A2m         1               0       -0.711127          NaN   \n",
       "3    Abcb1b         1               0       -0.557322          NaN   \n",
       "4     Acta1         1               0       -0.284675          NaN   \n",
       "..      ...       ...             ...             ...          ...   \n",
       "465   Rpl34         0               1             NaN     0.400813   \n",
       "466   Casp6         0               1             NaN     0.559243   \n",
       "467    Gar1         0               1             NaN     0.580970   \n",
       "468  Pappa2         0               1             NaN     0.811140   \n",
       "469    Kng1         0               1             NaN     0.842980   \n",
       "\n",
       "    n.regulated_cancer n.regulated_pre present_in  \n",
       "0                 down             NaN     cancer  \n",
       "1                 down             NaN     cancer  \n",
       "2                 down             NaN     cancer  \n",
       "3                 down             NaN     cancer  \n",
       "4                 down             NaN     cancer  \n",
       "..                 ...             ...        ...  \n",
       "465                NaN              up        pre  \n",
       "466                NaN              up        pre  \n",
       "467                NaN              up        pre  \n",
       "468                NaN              up        pre  \n",
       "469                NaN              up        pre  \n",
       "\n",
       "[470 rows x 8 columns]"
      ]
     },
     "execution_count": 25,
     "metadata": {},
     "output_type": "execute_result"
    }
   ],
   "source": [
    "graph"
   ]
  },
  {
   "cell_type": "code",
   "execution_count": 26,
   "metadata": {},
   "outputs": [
    {
     "data": {
      "text/plain": [
       "present_in\n",
       "pre       294\n",
       "cancer    154\n",
       "both       22\n",
       "Name: count, dtype: int64"
      ]
     },
     "execution_count": 26,
     "metadata": {},
     "output_type": "execute_result"
    }
   ],
   "source": [
    "graph.present_in.value_counts()"
   ]
  }
 ],
 "metadata": {
  "language_info": {
   "name": "python"
  }
 },
 "nbformat": 4,
 "nbformat_minor": 2
}
