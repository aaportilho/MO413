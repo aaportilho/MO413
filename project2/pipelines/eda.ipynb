{
 "cells": [
  {
   "cell_type": "code",
   "execution_count": 1,
   "metadata": {},
   "outputs": [],
   "source": [
    "import pandas as pd\n",
    "import numpy as np"
   ]
  },
  {
   "cell_type": "code",
   "execution_count": 2,
   "metadata": {},
   "outputs": [],
   "source": [
    "cancer = pd.read_csv('../data/raw/string_cancer.tsv', sep='\\t')\n",
    "pre = pd.read_csv('../data/raw/string_preeclampsia.tsv', sep='\\t')\n",
    "\n",
    "\n",
    "rename_dict = {'#node1': 'node1', 'node1_string_id':'node1_id', 'node2_string_id':'node2_id',}\n",
    "cancer = cancer.rename(columns=rename_dict)\n",
    "pre = pre.rename(columns=rename_dict)"
   ]
  },
  {
   "cell_type": "code",
   "execution_count": 3,
   "metadata": {},
   "outputs": [
    {
     "data": {
      "text/html": [
       "<div>\n",
       "<style scoped>\n",
       "    .dataframe tbody tr th:only-of-type {\n",
       "        vertical-align: middle;\n",
       "    }\n",
       "\n",
       "    .dataframe tbody tr th {\n",
       "        vertical-align: top;\n",
       "    }\n",
       "\n",
       "    .dataframe thead th {\n",
       "        text-align: right;\n",
       "    }\n",
       "</style>\n",
       "<table border=\"1\" class=\"dataframe\">\n",
       "  <thead>\n",
       "    <tr style=\"text-align: right;\">\n",
       "      <th></th>\n",
       "      <th>Query protein</th>\n",
       "      <th>Gene name</th>\n",
       "      <th>FC</th>\n",
       "    </tr>\n",
       "  </thead>\n",
       "  <tbody>\n",
       "    <tr>\n",
       "      <th>0</th>\n",
       "      <td>Q6AYZ1</td>\n",
       "      <td>3</td>\n",
       "      <td>-0,4403701467</td>\n",
       "    </tr>\n",
       "    <tr>\n",
       "      <th>1</th>\n",
       "      <td>F1LZK3</td>\n",
       "      <td>10090</td>\n",
       "      <td>1,206086919</td>\n",
       "    </tr>\n",
       "    <tr>\n",
       "      <th>2</th>\n",
       "      <td>Q6AY56</td>\n",
       "      <td>A1bg</td>\n",
       "      <td>-0,7781455102</td>\n",
       "    </tr>\n",
       "    <tr>\n",
       "      <th>3</th>\n",
       "      <td>Q4FZY3</td>\n",
       "      <td>A2m</td>\n",
       "      <td>-0,7111270661</td>\n",
       "    </tr>\n",
       "    <tr>\n",
       "      <th>4</th>\n",
       "      <td>G3V7Q7</td>\n",
       "      <td>Abcb1b</td>\n",
       "      <td>-0,5573217453</td>\n",
       "    </tr>\n",
       "    <tr>\n",
       "      <th>...</th>\n",
       "      <td>...</td>\n",
       "      <td>...</td>\n",
       "      <td>...</td>\n",
       "    </tr>\n",
       "    <tr>\n",
       "      <th>173</th>\n",
       "      <td>D4ABI6</td>\n",
       "      <td>Uchl4</td>\n",
       "      <td>-0,6349663524</td>\n",
       "    </tr>\n",
       "    <tr>\n",
       "      <th>174</th>\n",
       "      <td>Q91Y81</td>\n",
       "      <td>Vapa</td>\n",
       "      <td>-0,8387873963</td>\n",
       "    </tr>\n",
       "    <tr>\n",
       "      <th>175</th>\n",
       "      <td>D4A7L6</td>\n",
       "      <td>Vat1</td>\n",
       "      <td>-0,5113878815</td>\n",
       "    </tr>\n",
       "    <tr>\n",
       "      <th>176</th>\n",
       "      <td>A0A0G2K1E2</td>\n",
       "      <td>Vcl</td>\n",
       "      <td>-0,3677909569</td>\n",
       "    </tr>\n",
       "    <tr>\n",
       "      <th>177</th>\n",
       "      <td>A0A8I6A1E6</td>\n",
       "      <td>Ubqln4</td>\n",
       "      <td>-0.528368</td>\n",
       "    </tr>\n",
       "  </tbody>\n",
       "</table>\n",
       "<p>178 rows × 3 columns</p>\n",
       "</div>"
      ],
      "text/plain": [
       "    Query protein Gene name             FC\n",
       "0          Q6AYZ1         3  -0,4403701467\n",
       "1         F1LZK3      10090    1,206086919\n",
       "2          Q6AY56      A1bg  -0,7781455102\n",
       "3          Q4FZY3       A2m  -0,7111270661\n",
       "4          G3V7Q7    Abcb1b  -0,5573217453\n",
       "..            ...       ...            ...\n",
       "173        D4ABI6     Uchl4  -0,6349663524\n",
       "174        Q91Y81      Vapa  -0,8387873963\n",
       "175        D4A7L6      Vat1  -0,5113878815\n",
       "176    A0A0G2K1E2       Vcl  -0,3677909569\n",
       "177    A0A8I6A1E6    Ubqln4      -0.528368\n",
       "\n",
       "[178 rows x 3 columns]"
      ]
     },
     "execution_count": 3,
     "metadata": {},
     "output_type": "execute_result"
    }
   ],
   "source": [
    "# load a xls file as pandas and get a specific tab\n",
    "xls = pd.ExcelFile('../data/raw/proteomica.xlsx')\n",
    "xls_cancer = pd.read_excel(xls, 'Cancer-Rat')\n",
    "xls_pre = pd.read_excel(xls, 'Preeclampsia-Rat')\n",
    "xls_cancer"
   ]
  },
  {
   "cell_type": "code",
   "execution_count": 4,
   "metadata": {},
   "outputs": [
    {
     "data": {
      "text/plain": [
       "(Index(['Query protein', 'Gene name', 'FC'], dtype='object'),\n",
       " Index(['Protein (UNIPROT)', 'protein_firstname', 'Protein description',\n",
       "        'Gene name', 'P value', 'Regulated', 'Fold change', 'Obs.'],\n",
       "       dtype='object'))"
      ]
     },
     "execution_count": 4,
     "metadata": {},
     "output_type": "execute_result"
    }
   ],
   "source": [
    "xls_cancer.columns, xls_pre.columns"
   ]
  },
  {
   "cell_type": "code",
   "execution_count": 5,
   "metadata": {},
   "outputs": [
    {
     "data": {
      "text/plain": [
       "Index(['gene', 'fc', 'regulated', 'cancer'], dtype='object')"
      ]
     },
     "execution_count": 5,
     "metadata": {},
     "output_type": "execute_result"
    }
   ],
   "source": [
    "xls_cancer = xls_cancer.rename(columns={'Gene name': 'gene', 'FC': 'fc'})\n",
    "xls_cancer = xls_cancer.drop('Query protein', axis=1)\n",
    "xls_cancer['fc'] = xls_cancer['fc'].str.replace(',', '.').astype(float)\n",
    "xls_cancer['regulated'] = np.where(xls_cancer['fc'] > 0, 'up', 'down')\n",
    "xls_cancer['cancer'] = 1\n",
    "xls_cancer.columns"
   ]
  },
  {
   "cell_type": "code",
   "execution_count": 6,
   "metadata": {},
   "outputs": [
    {
     "data": {
      "text/plain": [
       "Index(['gene', 'regulated', 'fc', 'preeclampsia'], dtype='object')"
      ]
     },
     "execution_count": 6,
     "metadata": {},
     "output_type": "execute_result"
    }
   ],
   "source": [
    "xls_pre = xls_pre.drop(['Protein (UNIPROT)', 'protein_firstname', 'Protein description','P value','Obs.'], axis=1)\n",
    "xls_pre = xls_pre.rename(columns={'Gene name': 'gene', 'Fold change': 'fc', 'Regulated': 'regulated'})\n",
    "xls_pre['preeclampsia'] = 1\n",
    "xls_pre['regulated'] = xls_pre['regulated'].str.lower()\n",
    "# xls_pre['fc'] = xls_pre['fc'].str.replace(',', '.').astype(float)\n",
    "xls_pre.columns"
   ]
  },
  {
   "cell_type": "markdown",
   "metadata": {},
   "source": [
    "Number of unique proteins in node1 and node2"
   ]
  },
  {
   "cell_type": "code",
   "execution_count": 7,
   "metadata": {},
   "outputs": [
    {
     "data": {
      "text/plain": [
       "(79, 80)"
      ]
     },
     "execution_count": 7,
     "metadata": {},
     "output_type": "execute_result"
    }
   ],
   "source": [
    "cancer.node1.nunique(), cancer.node2.nunique()"
   ]
  },
  {
   "cell_type": "markdown",
   "metadata": {},
   "source": [
    "Genes that are present only in node1 or node2"
   ]
  },
  {
   "cell_type": "code",
   "execution_count": 8,
   "metadata": {},
   "outputs": [
    {
     "data": {
      "text/plain": [
       "63"
      ]
     },
     "execution_count": 8,
     "metadata": {},
     "output_type": "execute_result"
    }
   ],
   "source": [
    "diff = set(cancer.node1.unique()).symmetric_difference(set(cancer.node2.unique()))\n",
    "len(diff)"
   ]
  },
  {
   "cell_type": "markdown",
   "metadata": {},
   "source": [
    "Number of unique proteins(gene?)"
   ]
  },
  {
   "cell_type": "code",
   "execution_count": 9,
   "metadata": {},
   "outputs": [
    {
     "data": {
      "text/plain": [
       "111"
      ]
     },
     "execution_count": 9,
     "metadata": {},
     "output_type": "execute_result"
    }
   ],
   "source": [
    "len(set(cancer.node1.unique().tolist() + cancer.node2.unique().tolist()))"
   ]
  },
  {
   "cell_type": "code",
   "execution_count": 10,
   "metadata": {},
   "outputs": [
    {
     "data": {
      "text/plain": [
       "103"
      ]
     },
     "execution_count": 10,
     "metadata": {},
     "output_type": "execute_result"
    }
   ],
   "source": [
    "len(set(pre.node1.unique().tolist() + pre.node2.unique().tolist()))"
   ]
  },
  {
   "cell_type": "code",
   "execution_count": 11,
   "metadata": {},
   "outputs": [
    {
     "data": {
      "text/html": [
       "<div>\n",
       "<style scoped>\n",
       "    .dataframe tbody tr th:only-of-type {\n",
       "        vertical-align: middle;\n",
       "    }\n",
       "\n",
       "    .dataframe tbody tr th {\n",
       "        vertical-align: top;\n",
       "    }\n",
       "\n",
       "    .dataframe thead th {\n",
       "        text-align: right;\n",
       "    }\n",
       "</style>\n",
       "<table border=\"1\" class=\"dataframe\">\n",
       "  <thead>\n",
       "    <tr style=\"text-align: right;\">\n",
       "      <th></th>\n",
       "      <th>gene</th>\n",
       "      <th>fc_cancer</th>\n",
       "      <th>regulated_cancer</th>\n",
       "      <th>cancer</th>\n",
       "      <th>regulated_pre</th>\n",
       "      <th>fc_pre</th>\n",
       "      <th>preeclampsia</th>\n",
       "    </tr>\n",
       "  </thead>\n",
       "  <tbody>\n",
       "    <tr>\n",
       "      <th>0</th>\n",
       "      <td>3</td>\n",
       "      <td>-0.440370</td>\n",
       "      <td>down</td>\n",
       "      <td>1.0</td>\n",
       "      <td>NaN</td>\n",
       "      <td>NaN</td>\n",
       "      <td>0.0</td>\n",
       "    </tr>\n",
       "    <tr>\n",
       "      <th>1</th>\n",
       "      <td>10090</td>\n",
       "      <td>1.206087</td>\n",
       "      <td>up</td>\n",
       "      <td>1.0</td>\n",
       "      <td>NaN</td>\n",
       "      <td>NaN</td>\n",
       "      <td>0.0</td>\n",
       "    </tr>\n",
       "    <tr>\n",
       "      <th>2</th>\n",
       "      <td>A1bg</td>\n",
       "      <td>-0.778146</td>\n",
       "      <td>down</td>\n",
       "      <td>1.0</td>\n",
       "      <td>NaN</td>\n",
       "      <td>NaN</td>\n",
       "      <td>0.0</td>\n",
       "    </tr>\n",
       "    <tr>\n",
       "      <th>3</th>\n",
       "      <td>A2m</td>\n",
       "      <td>-0.711127</td>\n",
       "      <td>down</td>\n",
       "      <td>1.0</td>\n",
       "      <td>NaN</td>\n",
       "      <td>NaN</td>\n",
       "      <td>0.0</td>\n",
       "    </tr>\n",
       "    <tr>\n",
       "      <th>4</th>\n",
       "      <td>Abcb1b</td>\n",
       "      <td>-0.557322</td>\n",
       "      <td>down</td>\n",
       "      <td>1.0</td>\n",
       "      <td>NaN</td>\n",
       "      <td>NaN</td>\n",
       "      <td>0.0</td>\n",
       "    </tr>\n",
       "    <tr>\n",
       "      <th>...</th>\n",
       "      <td>...</td>\n",
       "      <td>...</td>\n",
       "      <td>...</td>\n",
       "      <td>...</td>\n",
       "      <td>...</td>\n",
       "      <td>...</td>\n",
       "      <td>...</td>\n",
       "    </tr>\n",
       "    <tr>\n",
       "      <th>487</th>\n",
       "      <td>Casp6</td>\n",
       "      <td>NaN</td>\n",
       "      <td>NaN</td>\n",
       "      <td>0.0</td>\n",
       "      <td>up</td>\n",
       "      <td>0.559243</td>\n",
       "      <td>1.0</td>\n",
       "    </tr>\n",
       "    <tr>\n",
       "      <th>488</th>\n",
       "      <td>Gar1</td>\n",
       "      <td>NaN</td>\n",
       "      <td>NaN</td>\n",
       "      <td>0.0</td>\n",
       "      <td>up</td>\n",
       "      <td>0.580970</td>\n",
       "      <td>1.0</td>\n",
       "    </tr>\n",
       "    <tr>\n",
       "      <th>489</th>\n",
       "      <td>NaN</td>\n",
       "      <td>NaN</td>\n",
       "      <td>NaN</td>\n",
       "      <td>0.0</td>\n",
       "      <td>up</td>\n",
       "      <td>0.763275</td>\n",
       "      <td>1.0</td>\n",
       "    </tr>\n",
       "    <tr>\n",
       "      <th>490</th>\n",
       "      <td>Pappa2</td>\n",
       "      <td>NaN</td>\n",
       "      <td>NaN</td>\n",
       "      <td>0.0</td>\n",
       "      <td>up</td>\n",
       "      <td>0.811140</td>\n",
       "      <td>1.0</td>\n",
       "    </tr>\n",
       "    <tr>\n",
       "      <th>491</th>\n",
       "      <td>Kng1</td>\n",
       "      <td>NaN</td>\n",
       "      <td>NaN</td>\n",
       "      <td>0.0</td>\n",
       "      <td>up</td>\n",
       "      <td>0.842980</td>\n",
       "      <td>1.0</td>\n",
       "    </tr>\n",
       "  </tbody>\n",
       "</table>\n",
       "<p>492 rows × 7 columns</p>\n",
       "</div>"
      ],
      "text/plain": [
       "       gene  fc_cancer regulated_cancer  cancer regulated_pre    fc_pre  \\\n",
       "0         3  -0.440370             down     1.0           NaN       NaN   \n",
       "1     10090   1.206087               up     1.0           NaN       NaN   \n",
       "2      A1bg  -0.778146             down     1.0           NaN       NaN   \n",
       "3       A2m  -0.711127             down     1.0           NaN       NaN   \n",
       "4    Abcb1b  -0.557322             down     1.0           NaN       NaN   \n",
       "..      ...        ...              ...     ...           ...       ...   \n",
       "487   Casp6        NaN              NaN     0.0            up  0.559243   \n",
       "488    Gar1        NaN              NaN     0.0            up  0.580970   \n",
       "489     NaN        NaN              NaN     0.0            up  0.763275   \n",
       "490  Pappa2        NaN              NaN     0.0            up  0.811140   \n",
       "491    Kng1        NaN              NaN     0.0            up  0.842980   \n",
       "\n",
       "     preeclampsia  \n",
       "0             0.0  \n",
       "1             0.0  \n",
       "2             0.0  \n",
       "3             0.0  \n",
       "4             0.0  \n",
       "..            ...  \n",
       "487           1.0  \n",
       "488           1.0  \n",
       "489           1.0  \n",
       "490           1.0  \n",
       "491           1.0  \n",
       "\n",
       "[492 rows x 7 columns]"
      ]
     },
     "execution_count": 11,
     "metadata": {},
     "output_type": "execute_result"
    }
   ],
   "source": [
    "f_df = xls_cancer.merge(xls_pre, on='gene', suffixes=('_cancer', '_pre'), how='outer')\n",
    "f_df.cancer = f_df.cancer.fillna(0)\n",
    "f_df.preeclampsia = f_df.preeclampsia.fillna(0)\n",
    "f_df.to_csv('../data/processed/genes.csv', index=False)\n",
    "f_df"
   ]
  },
  {
   "cell_type": "code",
   "execution_count": 12,
   "metadata": {},
   "outputs": [
    {
     "name": "stdout",
     "output_type": "stream",
     "text": [
      "12\n"
     ]
    },
    {
     "data": {
      "text/html": [
       "<div>\n",
       "<style scoped>\n",
       "    .dataframe tbody tr th:only-of-type {\n",
       "        vertical-align: middle;\n",
       "    }\n",
       "\n",
       "    .dataframe tbody tr th {\n",
       "        vertical-align: top;\n",
       "    }\n",
       "\n",
       "    .dataframe thead th {\n",
       "        text-align: right;\n",
       "    }\n",
       "</style>\n",
       "<table border=\"1\" class=\"dataframe\">\n",
       "  <thead>\n",
       "    <tr style=\"text-align: right;\">\n",
       "      <th></th>\n",
       "      <th>gene</th>\n",
       "      <th>fc_cancer</th>\n",
       "      <th>regulated_cancer</th>\n",
       "      <th>cancer</th>\n",
       "      <th>regulated_pre</th>\n",
       "      <th>fc_pre</th>\n",
       "      <th>preeclampsia</th>\n",
       "    </tr>\n",
       "  </thead>\n",
       "  <tbody>\n",
       "    <tr>\n",
       "      <th>10</th>\n",
       "      <td>Actn1</td>\n",
       "      <td>0.240738</td>\n",
       "      <td>up</td>\n",
       "      <td>1.0</td>\n",
       "      <td>up</td>\n",
       "      <td>0.263762</td>\n",
       "      <td>1.0</td>\n",
       "    </tr>\n",
       "    <tr>\n",
       "      <th>53</th>\n",
       "      <td>Ehd4</td>\n",
       "      <td>0.576265</td>\n",
       "      <td>up</td>\n",
       "      <td>1.0</td>\n",
       "      <td>down</td>\n",
       "      <td>-0.293523</td>\n",
       "      <td>1.0</td>\n",
       "    </tr>\n",
       "    <tr>\n",
       "      <th>77</th>\n",
       "      <td>Hpx</td>\n",
       "      <td>0.444360</td>\n",
       "      <td>up</td>\n",
       "      <td>1.0</td>\n",
       "      <td>up</td>\n",
       "      <td>0.555551</td>\n",
       "      <td>1.0</td>\n",
       "    </tr>\n",
       "    <tr>\n",
       "      <th>171</th>\n",
       "      <td>Uba6</td>\n",
       "      <td>0.192763</td>\n",
       "      <td>up</td>\n",
       "      <td>1.0</td>\n",
       "      <td>down</td>\n",
       "      <td>-0.346560</td>\n",
       "      <td>1.0</td>\n",
       "    </tr>\n",
       "    <tr>\n",
       "      <th>49</th>\n",
       "      <td>Dnajb11</td>\n",
       "      <td>-0.428988</td>\n",
       "      <td>down</td>\n",
       "      <td>1.0</td>\n",
       "      <td>up</td>\n",
       "      <td>0.442867</td>\n",
       "      <td>1.0</td>\n",
       "    </tr>\n",
       "    <tr>\n",
       "      <th>52</th>\n",
       "      <td>Ehd1</td>\n",
       "      <td>-0.450791</td>\n",
       "      <td>down</td>\n",
       "      <td>1.0</td>\n",
       "      <td>down</td>\n",
       "      <td>-0.294619</td>\n",
       "      <td>1.0</td>\n",
       "    </tr>\n",
       "    <tr>\n",
       "      <th>61</th>\n",
       "      <td>F2</td>\n",
       "      <td>-0.553859</td>\n",
       "      <td>down</td>\n",
       "      <td>1.0</td>\n",
       "      <td>up</td>\n",
       "      <td>0.293442</td>\n",
       "      <td>1.0</td>\n",
       "    </tr>\n",
       "    <tr>\n",
       "      <th>90</th>\n",
       "      <td>Lgals1</td>\n",
       "      <td>-0.287505</td>\n",
       "      <td>down</td>\n",
       "      <td>1.0</td>\n",
       "      <td>up</td>\n",
       "      <td>0.315815</td>\n",
       "      <td>1.0</td>\n",
       "    </tr>\n",
       "    <tr>\n",
       "      <th>119</th>\n",
       "      <td>Prdx5</td>\n",
       "      <td>-0.360268</td>\n",
       "      <td>down</td>\n",
       "      <td>1.0</td>\n",
       "      <td>down</td>\n",
       "      <td>-0.353523</td>\n",
       "      <td>1.0</td>\n",
       "    </tr>\n",
       "    <tr>\n",
       "      <th>143</th>\n",
       "      <td>Ruvbl2</td>\n",
       "      <td>-0.296228</td>\n",
       "      <td>down</td>\n",
       "      <td>1.0</td>\n",
       "      <td>up</td>\n",
       "      <td>0.217608</td>\n",
       "      <td>1.0</td>\n",
       "    </tr>\n",
       "    <tr>\n",
       "      <th>150</th>\n",
       "      <td>Slc3a2</td>\n",
       "      <td>-0.531778</td>\n",
       "      <td>down</td>\n",
       "      <td>1.0</td>\n",
       "      <td>down</td>\n",
       "      <td>-0.290488</td>\n",
       "      <td>1.0</td>\n",
       "    </tr>\n",
       "    <tr>\n",
       "      <th>165</th>\n",
       "      <td>Tubb3</td>\n",
       "      <td>-0.148525</td>\n",
       "      <td>down</td>\n",
       "      <td>1.0</td>\n",
       "      <td>down</td>\n",
       "      <td>-0.325208</td>\n",
       "      <td>1.0</td>\n",
       "    </tr>\n",
       "  </tbody>\n",
       "</table>\n",
       "</div>"
      ],
      "text/plain": [
       "        gene  fc_cancer regulated_cancer  cancer regulated_pre    fc_pre  \\\n",
       "10     Actn1   0.240738               up     1.0            up  0.263762   \n",
       "53      Ehd4   0.576265               up     1.0          down -0.293523   \n",
       "77       Hpx   0.444360               up     1.0            up  0.555551   \n",
       "171     Uba6   0.192763               up     1.0          down -0.346560   \n",
       "49   Dnajb11  -0.428988             down     1.0            up  0.442867   \n",
       "52      Ehd1  -0.450791             down     1.0          down -0.294619   \n",
       "61        F2  -0.553859             down     1.0            up  0.293442   \n",
       "90    Lgals1  -0.287505             down     1.0            up  0.315815   \n",
       "119    Prdx5  -0.360268             down     1.0          down -0.353523   \n",
       "143   Ruvbl2  -0.296228             down     1.0            up  0.217608   \n",
       "150   Slc3a2  -0.531778             down     1.0          down -0.290488   \n",
       "165    Tubb3  -0.148525             down     1.0          down -0.325208   \n",
       "\n",
       "     preeclampsia  \n",
       "10            1.0  \n",
       "53            1.0  \n",
       "77            1.0  \n",
       "171           1.0  \n",
       "49            1.0  \n",
       "52            1.0  \n",
       "61            1.0  \n",
       "90            1.0  \n",
       "119           1.0  \n",
       "143           1.0  \n",
       "150           1.0  \n",
       "165           1.0  "
      ]
     },
     "execution_count": 12,
     "metadata": {},
     "output_type": "execute_result"
    }
   ],
   "source": [
    "df_no_nans = f_df.dropna()\n",
    "print(len(df_no_nans))\n",
    "df_no_nans.sort_values('regulated_cancer', ascending=False)"
   ]
  },
  {
   "cell_type": "code",
   "execution_count": 13,
   "metadata": {},
   "outputs": [],
   "source": [
    "cancer.to_csv('../data/processed/string_cancer.csv', index=False)\n",
    "pre.to_csv('../data/processed/string_pre.csv', index=False)"
   ]
  }
 ],
 "metadata": {
  "language_info": {
   "name": "python"
  }
 },
 "nbformat": 4,
 "nbformat_minor": 2
}
